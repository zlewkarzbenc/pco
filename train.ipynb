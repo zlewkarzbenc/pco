{
 "cells": [
  {
   "cell_type": "code",
   "execution_count": 1,
   "metadata": {},
   "outputs": [],
   "source": [
    "import time\n",
    "import os\n",
    "from xgboost import XGBClassifier\n",
    "from sklearn.model_selection import train_test_split\n",
    "from sklearn.metrics import roc_auc_score, accuracy_score, matthews_corrcoef, roc_curve, confusion_matrix\n",
    "import numpy as np\n",
    "import pandas as pd\n",
    "import optuna\n",
    "\n",
    "import config"
   ]
  },
  {
   "cell_type": "code",
   "execution_count": 4,
   "metadata": {},
   "outputs": [],
   "source": [
    "def load_numpy_data(csv_path, feature_names: list):\n",
    "    \"\"\"\n",
    "    Loads data from a CSV and returns (X, y) as NumPy arrays.\n",
    "    Assumes:\n",
    "      - Column 0: FASTA header (ignored)\n",
    "      - Columns 1:-1: features\n",
    "      - Column -1: label\n",
    "    \"\"\"\n",
    "    df = pd.read_csv(csv_path)\n",
    "    X = df[feature_names].values\n",
    "    y = df.iloc[:, -1].values\n",
    "    return X, y"
   ]
  },
  {
   "cell_type": "markdown",
   "metadata": {},
   "source": [
    "### Load the training data"
   ]
  },
  {
   "cell_type": "code",
   "execution_count": 6,
   "metadata": {},
   "outputs": [
    {
     "name": "stdout",
     "output_type": "stream",
     "text": [
      "Loading the data...\n"
     ]
    }
   ],
   "source": [
    "print(\"Loading the data...\")\n",
    "X, y = load_numpy_data(os.path.join(config.data_dir, 'train_data.csv'), config.feature_names)\n",
    "\n",
    "X_train, X_val, y_train, y_val = train_test_split(\n",
    "    X, y, test_size=(config.train_ratio),\n",
    "    stratify=y, random_state=config.seed\n",
    "    )"
   ]
  },
  {
   "cell_type": "markdown",
   "metadata": {},
   "source": [
    "### Train the XGBoost classifier and optimize thte hyperparameters through Optuna"
   ]
  },
  {
   "cell_type": "code",
   "execution_count": null,
   "metadata": {},
   "outputs": [],
   "source": [
    "# Objective function for Optuna\n",
    "def objective(trial):\n",
    "    params = {\n",
    "        \"n_estimators\": trial.suggest_int(\"n_estimators\", 1500, 6000, step=250),\n",
    "        \"max_depth\": trial.suggest_int(\"max_depth\", 3, 30),\n",
    "        \"learning_rate\": trial.suggest_float(\"learning_rate\", 0.01, 0.3, log=True),\n",
    "        \"subsample\": trial.suggest_float(\"subsample\", 0.5, 1.0),\n",
    "        \"colsample_bytree\": trial.suggest_float(\"colsample_bytree\", 0.7, 1.0),\n",
    "        \"reg_alpha\": trial.suggest_float(\"reg_alpha\", 0.0, 1.0),\n",
    "        \"reg_lambda\": trial.suggest_float(\"reg_lambda\", 0.0, 1.0),\n",
    "        \"random_state\": config.seed,\n",
    "        \"use_label_encoder\": False,\n",
    "        \"eval_metric\": \"logloss\",\n",
    "        \"n_jobs\": -1,\n",
    "    }\n",
    "\n",
    "    # Train model\n",
    "    model = XGBClassifier(**params)\n",
    "    model.fit(X_train, y_train)\n",
    "\n",
    "    # Predict probabilities and compute ROC AUC\n",
    "    val_preds = model.predict_proba(X_val)[:, 1]\n",
    "    auc = roc_auc_score(y_val, val_preds)\n",
    "\n",
    "    return auc\n",
    "\n",
    "# Create Optuna study\n",
    "study = optuna.create_study(direction=\"maximize\", sampler=optuna.samplers.TPESampler())\n",
    "number_of_trials = 50\n",
    "study.optimize(objective, n_trials=number_of_trials)\n",
    "\n",
    "# Print best hyperparameters\n",
    "print(\"Best hyperparameters:\", study.best_params)\n",
    "print(\"Best AUC ROC:\", study.best_value)\n",
    "\n",
    "# Train the best model with the best hyperparameters\n",
    "best_params = study.best_params\n",
    "best_model = XGBClassifier(**best_params)\n",
    "best_model.fit(X_train, y_train)\n",
    "\n",
    "# Predict probabilities and labels for the validation set\n",
    "val_preds_proba = best_model.predict_proba(X_val)[:, 1]\n",
    "val_preds_labels = (val_preds_proba > 0.5).astype(int)\n",
    "\n",
    "# Compute metrics\n",
    "auc = roc_auc_score(y_val, val_preds_proba)\n",
    "acc = accuracy_score(y_val, val_preds_labels)\n",
    "mcc = matthews_corrcoef(y_val, val_preds_labels)\n",
    "\n",
    "# Print metrics\n",
    "print(f\"Best model metrics on the validation set:\")\n",
    "print(f\"  AUC ROC: {auc:.4f}\")\n",
    "print(f\"  Accuracy: {acc:.4f}\")\n",
    "print(f\"  MCC: {mcc:.4f}\")"
   ]
  },
  {
   "cell_type": "markdown",
   "metadata": {},
   "source": [
    "### Load the test data"
   ]
  },
  {
   "cell_type": "code",
   "execution_count": 7,
   "metadata": {},
   "outputs": [],
   "source": [
    "import config\n",
    "X_test, y_test = load_numpy_data(os.path.join(config.data_dir, 'test_data.csv'), config.feature_names)"
   ]
  },
  {
   "cell_type": "markdown",
   "metadata": {},
   "source": [
    "### Check performance on the test set"
   ]
  },
  {
   "cell_type": "code",
   "execution_count": null,
   "metadata": {},
   "outputs": [],
   "source": [
    "# Predict probabilities and labels for the test set\n",
    "test_preds_proba = best_model.predict_proba(X_test)[:, 1]\n",
    "\n",
    "# Compute metrics\n",
    "auc = roc_auc_score(y_test, test_preds_proba)\n",
    "test_preds_labels = (test_preds_proba > 0.5).astype(int)\n",
    "acc = accuracy_score(y_test, test_preds_labels)\n",
    "mcc = matthews_corrcoef(y_test, test_preds_labels)\n",
    "\n",
    "print(f\"Best Model Metrics on the Test Set:\")\n",
    "print(f\"  AUC ROC: {auc:.4f}\")\n",
    "print(f\"  Accuracy: {acc:.4f}\")\n",
    "print(f\"  MCC: {mcc:.4f}\")"
   ]
  }
 ],
 "metadata": {
  "kernelspec": {
   "display_name": "nsp3",
   "language": "python",
   "name": "python3"
  },
  "language_info": {
   "codemirror_mode": {
    "name": "ipython",
    "version": 3
   },
   "file_extension": ".py",
   "mimetype": "text/x-python",
   "name": "python",
   "nbconvert_exporter": "python",
   "pygments_lexer": "ipython3",
   "version": "3.8.8"
  }
 },
 "nbformat": 4,
 "nbformat_minor": 2
}
